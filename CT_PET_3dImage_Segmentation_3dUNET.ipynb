{
  "nbformat": 4,
  "nbformat_minor": 0,
  "metadata": {
    "colab": {
      "provenance": [],
      "machine_shape": "hm"
    },
    "kernelspec": {
      "name": "python3",
      "display_name": "Python 3"
    },
    "language_info": {
      "name": "python"
    },
    "accelerator": "GPU"
  },
  "cells": [
    {
      "cell_type": "code",
      "execution_count": null,
      "metadata": {
        "colab": {
          "base_uri": "https://localhost:8080/"
        },
        "id": "VDge2LtZAqBb",
        "outputId": "390e082e-6f19-4e40-a18b-99398cbac6fd"
      },
      "outputs": [
        {
          "output_type": "stream",
          "name": "stdout",
          "text": [
            "Looking in indexes: https://pypi.org/simple, https://us-python.pkg.dev/colab-wheels/public/simple/\n",
            "Requirement already satisfied: nibabel in /usr/local/lib/python3.7/dist-packages (3.0.2)\n",
            "Requirement already satisfied: numpy>=1.12 in /usr/local/lib/python3.7/dist-packages (from nibabel) (1.21.6)\n"
          ]
        }
      ],
      "source": [
        "pip install nibabel"
      ]
    },
    {
      "cell_type": "code",
      "source": [
        "pip install itk"
      ],
      "metadata": {
        "colab": {
          "base_uri": "https://localhost:8080/"
        },
        "id": "Fb3XINmvA1xv",
        "outputId": "b5ef64bb-4d29-4b09-becf-23295fc89773"
      },
      "execution_count": null,
      "outputs": [
        {
          "output_type": "stream",
          "name": "stdout",
          "text": [
            "Looking in indexes: https://pypi.org/simple, https://us-python.pkg.dev/colab-wheels/public/simple/\n",
            "Collecting itk\n",
            "  Downloading itk-5.2.1.post1-cp37-cp37m-manylinux2014_x86_64.whl (8.3 kB)\n",
            "Collecting itk-core==5.2.1.post1\n",
            "  Downloading itk_core-5.2.1.post1-cp37-cp37m-manylinux_2_17_x86_64.manylinux2014_x86_64.whl (70.6 MB)\n",
            "\u001b[K     |████████████████████████████████| 70.6 MB 1.1 MB/s \n",
            "\u001b[?25hCollecting itk-registration==5.2.1.post1\n",
            "  Downloading itk_registration-5.2.1.post1-cp37-cp37m-manylinux_2_17_x86_64.manylinux2014_x86_64.whl (20.3 MB)\n",
            "\u001b[K     |████████████████████████████████| 20.3 MB 40.1 MB/s \n",
            "\u001b[?25hCollecting itk-segmentation==5.2.1.post1\n",
            "  Downloading itk_segmentation-5.2.1.post1-cp37-cp37m-manylinux_2_17_x86_64.manylinux2014_x86_64.whl (16.6 MB)\n",
            "\u001b[K     |████████████████████████████████| 16.6 MB 33.0 MB/s \n",
            "\u001b[?25hRequirement already satisfied: numpy in /usr/local/lib/python3.7/dist-packages (from itk) (1.21.6)\n",
            "Collecting itk-io==5.2.1.post1\n",
            "  Downloading itk_io-5.2.1.post1-cp37-cp37m-manylinux_2_17_x86_64.manylinux2014_x86_64.whl (15.0 MB)\n",
            "\u001b[K     |████████████████████████████████| 15.0 MB 30.0 MB/s \n",
            "\u001b[?25hCollecting itk-filtering==5.2.1.post1\n",
            "  Downloading itk_filtering-5.2.1.post1-cp37-cp37m-manylinux_2_17_x86_64.manylinux2014_x86_64.whl (95.3 MB)\n",
            "\u001b[K     |████████████████████████████████| 95.3 MB 59 kB/s \n",
            "\u001b[?25hCollecting itk-numerics==5.2.1.post1\n",
            "  Downloading itk_numerics-5.2.1.post1-cp37-cp37m-manylinux_2_17_x86_64.manylinux2014_x86_64.whl (54.5 MB)\n",
            "\u001b[K     |████████████████████████████████| 54.5 MB 56 kB/s \n",
            "\u001b[?25hInstalling collected packages: itk-core, itk-numerics, itk-filtering, itk-segmentation, itk-registration, itk-io, itk\n",
            "Successfully installed itk-5.2.1.post1 itk-core-5.2.1.post1 itk-filtering-5.2.1.post1 itk-io-5.2.1.post1 itk-numerics-5.2.1.post1 itk-registration-5.2.1.post1 itk-segmentation-5.2.1.post1\n"
          ]
        }
      ]
    },
    {
      "cell_type": "code",
      "source": [
        "pip install patchify"
      ],
      "metadata": {
        "colab": {
          "base_uri": "https://localhost:8080/"
        },
        "id": "Eews4e6LA3Yd",
        "outputId": "50033493-e30b-4f8b-8a09-556073b8e438"
      },
      "execution_count": null,
      "outputs": [
        {
          "output_type": "stream",
          "name": "stdout",
          "text": [
            "Looking in indexes: https://pypi.org/simple, https://us-python.pkg.dev/colab-wheels/public/simple/\n",
            "Collecting patchify\n",
            "  Downloading patchify-0.2.3-py3-none-any.whl (6.6 kB)\n",
            "Requirement already satisfied: numpy<2,>=1 in /usr/local/lib/python3.7/dist-packages (from patchify) (1.21.6)\n",
            "Installing collected packages: patchify\n",
            "Successfully installed patchify-0.2.3\n"
          ]
        }
      ]
    },
    {
      "cell_type": "code",
      "source": [
        "import nibabel as nib\n",
        "import itk\n",
        "#import SimpleITK as sitk\n",
        "import glob\n",
        "import os\n",
        "import re\n",
        "import pandas as pd\n",
        "import numpy as np\n",
        "from ipywidgets import interact, interactive, IntSlider, ToggleButton\n",
        "\n",
        "#import tensorflow_datasets as tfds\n",
        "from nibabel import ecat\n",
        "\n",
        "from skimage import io\n",
        "from patchify import patchify, unpatchify\n",
        "import nibabel.processing\n",
        "import skimage.transform as skTrans\n",
        "import numpy as np\n",
        "from matplotlib import pyplot as plt\n",
        "from keras import backend as K\n",
        "from tensorflow.keras.utils import to_categorical\n",
        "from sklearn.model_selection import train_test_split"
      ],
      "metadata": {
        "id": "e6XY-kSMA5bl"
      },
      "execution_count": null,
      "outputs": []
    },
    {
      "cell_type": "code",
      "source": [
        "import tensorflow as tf\n",
        "from keras.models import Model\n",
        "from keras.layers import Input, Conv3D, MaxPooling3D, UpSampling3D, concatenate, Conv3DTranspose, BatchNormalization, Dropout, Lambda\n",
        "from tensorflow.keras.optimizers import Adam\n",
        "from keras.layers import Activation, MaxPool2D, Concatenate"
      ],
      "metadata": {
        "id": "aOsMIsH-BP3u"
      },
      "execution_count": null,
      "outputs": []
    },
    {
      "cell_type": "code",
      "source": [
        "from google.colab import drive\n",
        "drive.mount('/content/drive/')"
      ],
      "metadata": {
        "colab": {
          "base_uri": "https://localhost:8080/"
        },
        "id": "YO5hgFCTBUfF",
        "outputId": "755aa763-b3ba-4654-9ec4-dd532cf0da2e"
      },
      "execution_count": null,
      "outputs": [
        {
          "output_type": "stream",
          "name": "stdout",
          "text": [
            "Mounted at /content/drive/\n"
          ]
        }
      ]
    },
    {
      "cell_type": "code",
      "source": [
        "!nvidia-smi -L"
      ],
      "metadata": {
        "colab": {
          "base_uri": "https://localhost:8080/"
        },
        "id": "hUpNfFOFTWpu",
        "outputId": "1da410bc-1365-4305-fe76-3d10e6417407"
      },
      "execution_count": null,
      "outputs": [
        {
          "output_type": "stream",
          "name": "stdout",
          "text": [
            "GPU 0: Tesla V100-SXM2-16GB (UUID: GPU-255d6984-5029-197a-9164-bc2dec8ab3f9)\n"
          ]
        }
      ]
    },
    {
      "cell_type": "code",
      "source": [
        "df = pd.DataFrame(list(zip(path_ct, path_pet, path_mask)), columns =['CT_scan', 'PET', 'Mask'])"
      ],
      "metadata": {
        "id": "O2Wz9KYGBeud"
      },
      "execution_count": null,
      "outputs": []
    },
    {
      "cell_type": "code",
      "source": [
        "half = int(len(df)*0.5)\n",
        "half_df = df.iloc[:half, :]"
      ],
      "metadata": {
        "id": "61ELRDTc0FC0"
      },
      "execution_count": null,
      "outputs": []
    },
    {
      "cell_type": "code",
      "source": [
        "class CustomDataGen(tf.keras.utils.Sequence):\n",
        "    def __init__(self, df, X_col = 'input_path', X2_col = 'input_path2', y_col = 'output_path',\n",
        "                 batch_size = 2,\n",
        "                 input_size = (224, 224, 3),\n",
        "                 output_size = (224, 224, 3),\n",
        "                 shuffle=False):\n",
        "        \n",
        "        self.df = df.copy()\n",
        "        self.batch_size = batch_size\n",
        "        self.input_size = input_size\n",
        "        self.output_size = output_size\n",
        "        self.col_x = X_col\n",
        "        self.col_y = y_col\n",
        "        self.col_x2 = X2_col\n",
        "        self.shuffle = shuffle\n",
        "        self.n = len(self.df)\n",
        "    \n",
        "    def on_epoch_end(self):\n",
        "        if self.shuffle:\n",
        "            self.df = self.df.sample(frac=1).reset_index(drop=True)\n",
        "    \n",
        "    def __get_input(self, path, data_size):\n",
        "        img_scan = np.array(nib.load(str(path)).get_fdata())\n",
        "        patches = patchify(img_scan, (64, 64, 64), step=1)\n",
        "        assert patches.shape \n",
        "        reconstructed_image = unpatchify(patches, img_scan.shape)\n",
        "        result_img = skTrans.resize(reconstructed_image, (64,64,64), order=1, preserve_range=True)\n",
        "        result_img = result_img/result_img.max()\n",
        "        result_img = np.stack((result_img,)*3, axis=-1)\n",
        "        #result_img = np.expand_dims(result_img, axis=-1)\n",
        "        # patches = np.squeeze(patches)\n",
        "        # for i in range(patches.shape[0]):\n",
        "        #   for j in range(patches.shape[1]):\n",
        "        #     single_patch_img = patches[i,j,:,:]\n",
        "        # single_patch = np.expand_dims(single_patch_img, axis=-1) #np.stack((single_patch_img,)*3, axis=-1)\n",
        "        # single_patch = np.concatenate((single_patch[0], single_patch[2], single_patch[2], single_patch[3]), axis=0)\n",
        "        #ct_scan =  np.stack((ct_scan,)*3, axis=-1)\n",
        "\n",
        "        # pet_img = np.array(nib.load(str(path2)).get_fdata())\n",
        "        # pet_img = pet_img/pet_img.max()\n",
        "        # pet_img = patchify(pet_img, (64, 64, 64), step=64)\n",
        "        # pet_img = np.reshape(pet_img, (-1, pet_img.shape[3], pet_img.shape[4], pet_img.shape[5]))\n",
        "        #result_img =  np.stack((result_img,)*3, axis=-1)\n",
        "        \n",
        "        #PET_CT_array = [np.array(ct_scan).astype(np.float32), np.array(pet_img).astype(np.float32)]\n",
        "        return result_img\n",
        "    \n",
        "    def __get_output(self, path, data_size):\n",
        "        mask_scan = np.array(nib.load(str(path)).get_fdata())\n",
        "        patches = patchify(mask_scan, (64, 64, 64), step=1)\n",
        "        assert patches.shape \n",
        "        reconstructed_image = unpatchify(patches, mask_scan.shape)\n",
        "        result_mask = skTrans.resize(reconstructed_image, (64,64,64), order=1, preserve_range=True)\n",
        "        result_mask = result_mask/result_mask.max()\n",
        "        result_mask = np.stack((result_mask,)*3, axis=-1)\n",
        "        #result_mask = result_mask/result_mask.max()\n",
        "        #result_mask = np.expand_dims(result_mask, axis=-1)\n",
        "        #patches = np.squeeze(patches)\n",
        "        # for i in range(patches.shape[0]):\n",
        "        #   for j in range(patches.shape[1]):\n",
        "        #     single_patch_img = patches[i,j,:,:]\n",
        "        # mask_patch = np.expand_dims(single_patch_img, axis=-1) #np.stack((single_patch_img,)*3, axis=-1)\n",
        "        # mask_patch = np.concatenate((mask_patch[0], mask_patch[2], mask_patch[2], mask_patch[3]), axis=0)\n",
        "        #result_mask =  np.stack((result_mask,)*3, axis=0)\n",
        "        \n",
        "        #mask = mask).astype(np.float32)\n",
        "\n",
        "        return result_mask\n",
        "\n",
        "    def __get_data(self, batches):\n",
        "        # Generates data containing batch_size samples\n",
        "\n",
        "        input_path_batch_1 = batches[self.col_x]\n",
        "        input_path_batch_2 = batches[self.col_x2]\n",
        "        output_path_batch = batches[self.col_y]\n",
        "        X_batch_1 =[self.__get_input(x1, self.input_size) for x1 in input_path_batch_1]\n",
        "        X_batch_2 = [self.__get_input(x2, self.input_size) for x2 in input_path_batch_2]\n",
        "        Y_batch = [self.__get_output(y, self.output_size) for y in output_path_batch]\n",
        "\n",
        "        return X_batch_1, X_batch_2,  Y_batch\n",
        "    \n",
        "    def __getitem__(self, index):\n",
        "        \n",
        "        X = []\n",
        "        mask = []\n",
        "        batches = self.df[index * self.batch_size:(index + 1) * self.batch_size]\n",
        "        X1, X2, Y = self.__get_data(batches)\n",
        "        \n",
        "        #PET_CT_array = np.concatenate((X1, X2), axis=0)\n",
        "        train_img = []\n",
        "        both_images = [X1, X2]\n",
        "        train_img.append(both_images)\n",
        "        X_img = np.array(train_img).reshape(-1, 64, 64, 64, 3)\n",
        "\n",
        "        mask_input = []\n",
        "        mask_both = [Y, Y]\n",
        "        mask_input.append(mask_both)\n",
        "        Y_mask = np.array(mask_input).reshape(-1, 64, 64, 64, 3)\n",
        "\n",
        "                \n",
        "        return X_img, Y_mask\n",
        "    \n",
        "    def __len__(self):\n",
        "        return self.n // self.batch_size\n"
      ],
      "metadata": {
        "id": "CIQq2ZOQB0xV"
      },
      "execution_count": null,
      "outputs": []
    },
    {
      "cell_type": "code",
      "source": [
        "#half_df"
      ],
      "metadata": {
        "id": "9sS09R_-0XuO"
      },
      "execution_count": null,
      "outputs": []
    },
    {
      "cell_type": "code",
      "source": [
        "train_size = int(len(half_df)*0.8)\n",
        "val_size = int(len(half_df)*0.15)\n",
        "test_size = int(len(half_df)*0.5)"
      ],
      "metadata": {
        "id": "NoWTXWxsC6af"
      },
      "execution_count": null,
      "outputs": []
    },
    {
      "cell_type": "code",
      "source": [
        "half_df = half_df.sample(frac=1)\n",
        "df_train = half_df.iloc[:train_size,:]\n",
        "df_val = half_df.iloc[train_size:train_size+val_size,:]"
      ],
      "metadata": {
        "id": "GfqXuKjdDBLV"
      },
      "execution_count": null,
      "outputs": []
    },
    {
      "cell_type": "code",
      "source": [
        "batch_size = 2\n",
        "traingen = CustomDataGen(df_train,\n",
        "                         X_col='CT_scan',\n",
        "                         X2_col='PET',\n",
        "                         y_col='Mask',\n",
        "                         batch_size=batch_size\n",
        "                         )\n",
        "\n",
        "valgen = CustomDataGen(df_val,\n",
        "                         X_col='CT_scan',\n",
        "                         X2_col='PET',\n",
        "                         y_col='Mask',\n",
        "                         batch_size=batch_size\n",
        "                         )"
      ],
      "metadata": {
        "id": "QAtfKU_QDFck"
      },
      "execution_count": null,
      "outputs": []
    },
    {
      "cell_type": "code",
      "source": [
        "X, y = next(iter(traingen))"
      ],
      "metadata": {
        "id": "kRhi5SEoDJGd"
      },
      "execution_count": null,
      "outputs": []
    },
    {
      "cell_type": "code",
      "source": [
        "X.shape"
      ],
      "metadata": {
        "colab": {
          "base_uri": "https://localhost:8080/"
        },
        "id": "qorX3EYWDLUF",
        "outputId": "71382116-4f5a-4426-ce4a-a3e1ebe302b8"
      },
      "execution_count": null,
      "outputs": [
        {
          "output_type": "execute_result",
          "data": {
            "text/plain": [
              "(4, 64, 64, 64, 3)"
            ]
          },
          "metadata": {},
          "execution_count": 79
        }
      ]
    },
    {
      "cell_type": "code",
      "source": [
        "y.shape"
      ],
      "metadata": {
        "colab": {
          "base_uri": "https://localhost:8080/"
        },
        "id": "V4bneCPCDSIl",
        "outputId": "da3cdf43-578d-4303-e885-2edcd8a8b6c8"
      },
      "execution_count": null,
      "outputs": [
        {
          "output_type": "execute_result",
          "data": {
            "text/plain": [
              "(4, 64, 64, 64, 3)"
            ]
          },
          "metadata": {},
          "execution_count": 80
        }
      ]
    },
    {
      "cell_type": "code",
      "source": [
        "!apt install --allow-change-held-packages libcudnn8=8.4.1.50-1+cuda11.6"
      ],
      "metadata": {
        "colab": {
          "base_uri": "https://localhost:8080/"
        },
        "id": "3R4gwB2ADj-m",
        "outputId": "170ced19-a897-40a2-865d-72f1b4841c91"
      },
      "execution_count": null,
      "outputs": [
        {
          "output_type": "stream",
          "name": "stdout",
          "text": [
            "Reading package lists... Done\n",
            "Building dependency tree       \n",
            "Reading state information... Done\n",
            "The following package was automatically installed and is no longer required:\n",
            "  libnvidia-common-460\n",
            "Use 'apt autoremove' to remove it.\n",
            "The following packages will be REMOVED:\n",
            "  libcudnn8-dev\n",
            "The following held packages will be changed:\n",
            "  libcudnn8\n",
            "The following packages will be upgraded:\n",
            "  libcudnn8\n",
            "1 upgraded, 0 newly installed, 1 to remove and 18 not upgraded.\n",
            "Need to get 420 MB of archives.\n",
            "After this operation, 3,369 MB disk space will be freed.\n",
            "Get:1 https://developer.download.nvidia.com/compute/cuda/repos/ubuntu1804/x86_64  libcudnn8 8.4.1.50-1+cuda11.6 [420 MB]\n",
            "Fetched 420 MB in 7s (59.9 MB/s)\n",
            "(Reading database ... 155569 files and directories currently installed.)\n",
            "Removing libcudnn8-dev (8.0.5.39-1+cuda11.1) ...\n",
            "(Reading database ... 155547 files and directories currently installed.)\n",
            "Preparing to unpack .../libcudnn8_8.4.1.50-1+cuda11.6_amd64.deb ...\n",
            "Unpacking libcudnn8 (8.4.1.50-1+cuda11.6) over (8.0.5.39-1+cuda11.1) ...\n",
            "Setting up libcudnn8 (8.4.1.50-1+cuda11.6) ...\n"
          ]
        }
      ]
    },
    {
      "cell_type": "code",
      "source": [
        "def conv_block(input, num_filters):\n",
        "    x = Conv3D(num_filters, 3, padding=\"same\")(input)\n",
        "    x = BatchNormalization()(x)   #Not in the original network. \n",
        "    x = Activation(\"relu\")(x)\n",
        "\n",
        "    x = Conv3D(num_filters, 3, padding=\"same\")(x)\n",
        "    x = BatchNormalization()(x)  #Not in the original network\n",
        "    x = Activation(\"relu\")(x)\n",
        "\n",
        "    return x\n",
        "\n",
        "#Encoder block: Conv block followed by maxpooling\n",
        "\n",
        "\n",
        "def encoder_block(input, num_filters):\n",
        "    x = conv_block(input, num_filters)\n",
        "    p = MaxPooling3D((2, 2, 2))(x)\n",
        "    return x, p   \n",
        "\n",
        "#Decoder block\n",
        "#skip features gets input from encoder for concatenation\n",
        "\n",
        "def decoder_block(input, skip_features, num_filters):\n",
        "    x = Conv3DTranspose(num_filters, (2, 2, 2), strides=2, padding=\"same\")(input)\n",
        "    x = Concatenate()([x, skip_features])\n",
        "    x = conv_block(x, num_filters)\n",
        "    return x\n",
        "\n",
        "def Unet_encoder(inputs):\n",
        "  s1, p1 = encoder_block(inputs, 64)\n",
        "  s2, p2 = encoder_block(p1, 128)\n",
        "  s3, p3 = encoder_block(p2, 256)\n",
        "  s4, p4 = encoder_block(p3, 512)\n",
        "\n",
        "  b1 = conv_block(p4, 1024)\n",
        "\n",
        "  d1 = decoder_block(b1, s4, 512)\n",
        "  d2 = decoder_block(d1, s3, 256)\n",
        "  d3 = decoder_block(d2, s2, 128)\n",
        "  d4 = decoder_block(d3, s1, 64)\n",
        "\n",
        "  return d4\n",
        "\n",
        "\n",
        "def generate_input_layers(inputs_shape, num_inputs):\n",
        "        inputs = []\n",
        "        for i in range(num_inputs):\n",
        "            inputs.append(Input((inputs_shape)))\n",
        "        x = concatenate(inputs)\n",
        "        return inputs, x\n",
        "\n",
        "#Build Unet using the blocks\n",
        "def build_unet(input_shape, n_classes):\n",
        "    #input_layer, concat_layer = generate_input_layers(input_shape, 2)\n",
        "    input_layer = Input((input_shape))\n",
        "    # d1 = Unet_encoder(inputs_1)\n",
        "    # d2 = Unet_encoder(inputs_2)\n",
        "\n",
        "    # d4 = Concatenate(axis=-1)([d1, d2])\n",
        "\n",
        "    s1, p1 = encoder_block(input_layer, 64)\n",
        "    s2, p2 = encoder_block(p1, 128)\n",
        "    s3, p3 = encoder_block(p2, 256)\n",
        "    s4, p4 = encoder_block(p3, 512)\n",
        "\n",
        "    b1 = conv_block(p4, 1024) #Bridge\n",
        "\n",
        "    d1 = decoder_block(b1, s4, 512)\n",
        "    d2 = decoder_block(d1, s3, 256)\n",
        "    d3 = decoder_block(d2, s2, 128)\n",
        "    d4 = decoder_block(d3, s1, 64)\n",
        "\n",
        "    if n_classes == 1:  #Binary\n",
        "      activation = 'sigmoid'\n",
        "    else:\n",
        "      activation = 'softmax'\n",
        "\n",
        "    outputs = Conv3D(n_classes, 1, padding=\"same\", activation=activation)(d4)  #Change the activation based on n_classes\n",
        "    print(activation)\n",
        "\n",
        "    model = Model(input_layer, outputs, name=\"U-Net\")\n",
        "    return model"
      ],
      "metadata": {
        "id": "mWJZ2jdshwgf"
      },
      "execution_count": null,
      "outputs": []
    },
    {
      "cell_type": "code",
      "source": [
        "# Loss Function and coefficients to be used during training:\n",
        "# def dice_coefficient(y_true, y_pred):\n",
        "#     smoothing_factor = 1\n",
        "#     flat_y_true = K.flatten(y_true)\n",
        "#     flat_y_pred = K.flatten(y_pred)\n",
        "#     return (2. * K.sum(flat_y_true * flat_y_pred) + smoothing_factor) / (K.sum(flat_y_true) + K.sum(flat_y_pred) + smoothing_factor)\n",
        "import torch\n",
        "def dice_coefficient(y_true, y_pred, smooth=1):\n",
        "    intersection = K.sum(y_true * y_pred, axis=[1, 2, 3])\n",
        "    union = K.sum(y_true, axis=[1, 2, 3]) + K.sum(y_pred, axis=[1, 2, 3])\n",
        "    return K.mean((2. * intersection + smooth) / (union + smooth), axis=0)\n",
        "\n",
        "def dice_coefficient_loss(y_true, y_pred):\n",
        "    return 1 - dice_coefficient(y_true, y_pred)\n",
        "\n",
        "def dice_metric(inputs, target):\n",
        "  intersection = 2.0 * (target * inputs).sum()\n",
        "  union = target.sum() + input.sum()\n",
        "  if target.sum() == 0 and input.sum() == 0:\n",
        "    return 1.0\n",
        "\n",
        "  return intersection/union\n",
        "\n",
        "def dice_loss(inputs, target):\n",
        "  num = target.size(0)\n",
        "  inputs = inputs.reshape(num, -1)\n",
        "  target = target.reshape(num, -1)\n",
        "  smooth = 1.0\n",
        "  intersection = (inputs * target)\n",
        "  dice = (2 * intersection.sum(1) + smooth)/ (inputs.sum(1) + target.sum(1) + smooth)\n",
        "  dice = 1 + dice.sum()/num\n",
        "  return dice\n",
        "\n",
        "\n",
        "def bce_dice_loss(inputs, target):\n",
        "  dicescore = dice_loss(inputs, target)\n",
        "  bcescore = torch.nn.BCELoss()\n",
        "  bceloss = bcescore(inputs, target)\n",
        "\n",
        "  return bceloss + dicescore"
      ],
      "metadata": {
        "id": "waGQyW541_FL"
      },
      "execution_count": null,
      "outputs": []
    },
    {
      "cell_type": "code",
      "source": [
        "# def convolution3D(input, filters):\n",
        "#   layer1 = Conv3D(filters=filters, kernel_size=(3,3,3), padding=\"same\")(input)\n",
        "#   layer2 =  tf.keras.layers.LeakyReLU()(layer1)\n",
        "\n",
        "#   layer3 = Conv3D(filters=filters, kernel_size=(3,3,3), padding=\"same\")(layer2)\n",
        "#   layer4 =  tf.keras.layers.LeakyReLU()(layer3)\n",
        "#   layer5 = tf.keras.layers.SpatialDropout3D(0.2)(layer4)\n",
        "\n",
        "#   return layer5\n",
        "\n",
        "# def pooling3D(input):\n",
        "#   pool_layer = MaxPooling3D((2, 2, 2), padding=\"same\")(input)\n",
        "\n",
        "#   return pool_layer\n",
        "\n",
        "# def Upsampling(input):\n",
        "#   Upsample_layer = tf.keras.layers.UpSampling3D((2,2,2))(input)\n",
        "\n",
        "#   return Upsample_layer\n",
        "\n",
        "# def concatenate(upconv_input, forward_input):\n",
        "#   concatenate_layer = Concatenate()([upconv_input, forward_input])\n",
        "  \n",
        "#   return concatenate_layer\n",
        "\n",
        "# def output_convolution(input, num_classes, activation):\n",
        "#   output_layer = tf.keras.layers.Conv3D(filters=num_classes, kernel_size=1, activation=activation, padding=\"same\")(input)\n",
        "  \n",
        "#   return output_layer\n",
        "\n",
        "# def encoder(input, filters):\n",
        "#   layer1 = convolution3D(input, filters)\n",
        "#   layer2 = pooling3D(layer1)\n",
        "#   layer3 = tf.keras.layers.BatchNormalization()(layer2)\n",
        "  \n",
        "#   return layer1, layer3\n",
        "\n",
        "# def bottleneck(input, filters):\n",
        "#   layer1 = convolution3D(input, filters)\n",
        "#   layer2 = tf.keras.layers.BatchNormalization()(layer1)\n",
        "#   return layer2\n",
        "\n",
        "# def decoder(upconv_input, forward_input, num_filters):\n",
        "#   upconv_input = Upsampling(upconv_input)\n",
        "#   layer1 = concatenate(upconv_input, forward_input)\n",
        "#   layer2 = convolution3D(layer1, num_filters)\n",
        "#   layer3 = tf.keras.layers.BatchNormalization()(layer2)\n",
        "  \n",
        "#   return layer3\n",
        "\n",
        "# def UNET_3D(image_shape, n_classes):\n",
        "#   input = Input((image_shape))\n",
        "\n",
        "#   x = input\n",
        "#   forwards = []\n",
        "#   filters = (64, 128, 256, 512, 1024)\n",
        "\n",
        "#   # Encoder\n",
        "#   for i in range(len(filters) - 1):\n",
        "#     forward, x = encoder(x, filters[i])\n",
        "#     forwards.append(forward)\n",
        "  \n",
        "#   # Bottleneck\n",
        "#   x = bottleneck(x, filters[-1])\n",
        "\n",
        "#   # Decoder\n",
        "#   for i in reversed(range(len(filters) - 1)):\n",
        "#     x = decoder(x, forwards[i], filters[i])\n",
        "\n",
        "\n",
        "#   if n_classes == 1:\n",
        "#     activation = 'sigmoid'\n",
        "#   else:\n",
        "#     activation = 'softmax'\n",
        "#   # Output layer\n",
        "#   logits = output_convolution(x, n_classes, activation)\n",
        "#   #output = Activation('sigmoid')(logits)\n",
        "#   model = tf.keras.models.Model(input, logits, name='UNet3D')\n",
        "\n",
        "#   return model\n"
      ],
      "metadata": {
        "id": "Fz8NNdWilBjf"
      },
      "execution_count": null,
      "outputs": []
    },
    {
      "cell_type": "code",
      "source": [
        "n_classes = 1 \n",
        "#0.001\n",
        "LR = 0.001 \n",
        "optim = tf.keras.optimizers.Adam(LR)\n",
        "input = (64, 64, 64, 3)\n",
        "\n",
        "#model = UNET_3D(input, n_classes=n_classes)\n",
        "model = build_unet(input, n_classes=n_classes)\n",
        "\n",
        "model.compile(optimizer = optim, loss=dice_coefficient_loss, metrics=[dice_coefficient])\n",
        "print(model.summary())"
      ],
      "metadata": {
        "id": "61W_J5981hTm"
      },
      "execution_count": null,
      "outputs": []
    },
    {
      "cell_type": "code",
      "source": [
        "history=model.fit(traingen,\n",
        "                  batch_size = 2, \n",
        "                  epochs=30,\n",
        "                  validation_data = valgen)"
      ],
      "metadata": {
        "colab": {
          "base_uri": "https://localhost:8080/",
          "height": 831
        },
        "id": "gvo2Na_11wpq",
        "outputId": "5eed930f-ebd1-4714-831b-969cb19d4702"
      },
      "execution_count": null,
      "outputs": [
        {
          "output_type": "stream",
          "name": "stdout",
          "text": [
            "Epoch 1/30\n",
            "100/100 [==============================] - 3283s 33s/step - loss: 0.9949 - dice_coefficient: 0.0051 - val_loss: 0.9994 - val_dice_coefficient: 6.1916e-04\n",
            "Epoch 2/30\n",
            "100/100 [==============================] - 2996s 30s/step - loss: 0.9950 - dice_coefficient: 0.0050 - val_loss: 0.9892 - val_dice_coefficient: 0.0108\n",
            "Epoch 3/30\n",
            "100/100 [==============================] - 3191s 32s/step - loss: 0.9764 - dice_coefficient: 0.0236 - val_loss: 0.9763 - val_dice_coefficient: 0.0237\n",
            "Epoch 4/30\n",
            "100/100 [==============================] - 3217s 32s/step - loss: 0.9741 - dice_coefficient: 0.0259 - val_loss: 0.9691 - val_dice_coefficient: 0.0309\n",
            "Epoch 5/30\n",
            "100/100 [==============================] - 3047s 31s/step - loss: 0.9738 - dice_coefficient: 0.0262 - val_loss: 0.9676 - val_dice_coefficient: 0.0324\n",
            "Epoch 6/30\n",
            "100/100 [==============================] - 3218s 32s/step - loss: 0.9708 - dice_coefficient: 0.0292 - val_loss: 0.9988 - val_dice_coefficient: 0.0012\n",
            "Epoch 7/30\n",
            "100/100 [==============================] - 3067s 31s/step - loss: 0.9685 - dice_coefficient: 0.0315 - val_loss: 0.9639 - val_dice_coefficient: 0.0361\n",
            "Epoch 8/30\n",
            "100/100 [==============================] - 3229s 32s/step - loss: 0.9494 - dice_coefficient: 0.0506 - val_loss: 0.9417 - val_dice_coefficient: 0.0583\n",
            "Epoch 9/30\n",
            "100/100 [==============================] - 3189s 32s/step - loss: 0.9486 - dice_coefficient: 0.0514 - val_loss: 0.9385 - val_dice_coefficient: 0.0615\n",
            "Epoch 10/30\n",
            "100/100 [==============================] - 3030s 30s/step - loss: 0.9485 - dice_coefficient: 0.0515 - val_loss: 0.9382 - val_dice_coefficient: 0.0618\n",
            "Epoch 11/30\n",
            "100/100 [==============================] - 3218s 32s/step - loss: 0.9485 - dice_coefficient: 0.0515 - val_loss: 0.9382 - val_dice_coefficient: 0.0618\n",
            "Epoch 12/30\n",
            "100/100 [==============================] - 3272s 33s/step - loss: 0.9485 - dice_coefficient: 0.0515 - val_loss: 0.9381 - val_dice_coefficient: 0.0619\n",
            "Epoch 13/30\n",
            "100/100 [==============================] - 3353s 33s/step - loss: 0.9485 - dice_coefficient: 0.0515 - val_loss: 0.9381 - val_dice_coefficient: 0.0619\n",
            "Epoch 14/30\n",
            "  1/100 [..............................] - ETA: 40:37 - loss: 0.9164 - dice_coefficient: 0.0836"
          ]
        },
        {
          "output_type": "error",
          "ename": "KeyboardInterrupt",
          "evalue": "ignored",
          "traceback": [
            "\u001b[0;31m---------------------------------------------------------------------------\u001b[0m",
            "\u001b[0;31mKeyboardInterrupt\u001b[0m                         Traceback (most recent call last)",
            "\u001b[0;32m<ipython-input-85-f7136355f57a>\u001b[0m in \u001b[0;36m<module>\u001b[0;34m\u001b[0m\n\u001b[1;32m      2\u001b[0m                   \u001b[0mbatch_size\u001b[0m \u001b[0;34m=\u001b[0m \u001b[0;36m2\u001b[0m\u001b[0;34m,\u001b[0m\u001b[0;34m\u001b[0m\u001b[0;34m\u001b[0m\u001b[0m\n\u001b[1;32m      3\u001b[0m                   \u001b[0mepochs\u001b[0m\u001b[0;34m=\u001b[0m\u001b[0;36m30\u001b[0m\u001b[0;34m,\u001b[0m\u001b[0;34m\u001b[0m\u001b[0;34m\u001b[0m\u001b[0m\n\u001b[0;32m----> 4\u001b[0;31m                   validation_data = valgen)\n\u001b[0m",
            "\u001b[0;32m/usr/local/lib/python3.7/dist-packages/keras/utils/traceback_utils.py\u001b[0m in \u001b[0;36merror_handler\u001b[0;34m(*args, **kwargs)\u001b[0m\n\u001b[1;32m     62\u001b[0m     \u001b[0mfiltered_tb\u001b[0m \u001b[0;34m=\u001b[0m \u001b[0;32mNone\u001b[0m\u001b[0;34m\u001b[0m\u001b[0;34m\u001b[0m\u001b[0m\n\u001b[1;32m     63\u001b[0m     \u001b[0;32mtry\u001b[0m\u001b[0;34m:\u001b[0m\u001b[0;34m\u001b[0m\u001b[0;34m\u001b[0m\u001b[0m\n\u001b[0;32m---> 64\u001b[0;31m       \u001b[0;32mreturn\u001b[0m \u001b[0mfn\u001b[0m\u001b[0;34m(\u001b[0m\u001b[0;34m*\u001b[0m\u001b[0margs\u001b[0m\u001b[0;34m,\u001b[0m \u001b[0;34m**\u001b[0m\u001b[0mkwargs\u001b[0m\u001b[0;34m)\u001b[0m\u001b[0;34m\u001b[0m\u001b[0;34m\u001b[0m\u001b[0m\n\u001b[0m\u001b[1;32m     65\u001b[0m     \u001b[0;32mexcept\u001b[0m \u001b[0mException\u001b[0m \u001b[0;32mas\u001b[0m \u001b[0me\u001b[0m\u001b[0;34m:\u001b[0m  \u001b[0;31m# pylint: disable=broad-except\u001b[0m\u001b[0;34m\u001b[0m\u001b[0;34m\u001b[0m\u001b[0m\n\u001b[1;32m     66\u001b[0m       \u001b[0mfiltered_tb\u001b[0m \u001b[0;34m=\u001b[0m \u001b[0m_process_traceback_frames\u001b[0m\u001b[0;34m(\u001b[0m\u001b[0me\u001b[0m\u001b[0;34m.\u001b[0m\u001b[0m__traceback__\u001b[0m\u001b[0;34m)\u001b[0m\u001b[0;34m\u001b[0m\u001b[0;34m\u001b[0m\u001b[0m\n",
            "\u001b[0;32m/usr/local/lib/python3.7/dist-packages/keras/engine/training.py\u001b[0m in \u001b[0;36mfit\u001b[0;34m(self, x, y, batch_size, epochs, verbose, callbacks, validation_split, validation_data, shuffle, class_weight, sample_weight, initial_epoch, steps_per_epoch, validation_steps, validation_batch_size, validation_freq, max_queue_size, workers, use_multiprocessing)\u001b[0m\n\u001b[1;32m   1382\u001b[0m                 _r=1):\n\u001b[1;32m   1383\u001b[0m               \u001b[0mcallbacks\u001b[0m\u001b[0;34m.\u001b[0m\u001b[0mon_train_batch_begin\u001b[0m\u001b[0;34m(\u001b[0m\u001b[0mstep\u001b[0m\u001b[0;34m)\u001b[0m\u001b[0;34m\u001b[0m\u001b[0;34m\u001b[0m\u001b[0m\n\u001b[0;32m-> 1384\u001b[0;31m               \u001b[0mtmp_logs\u001b[0m \u001b[0;34m=\u001b[0m \u001b[0mself\u001b[0m\u001b[0;34m.\u001b[0m\u001b[0mtrain_function\u001b[0m\u001b[0;34m(\u001b[0m\u001b[0miterator\u001b[0m\u001b[0;34m)\u001b[0m\u001b[0;34m\u001b[0m\u001b[0;34m\u001b[0m\u001b[0m\n\u001b[0m\u001b[1;32m   1385\u001b[0m               \u001b[0;32mif\u001b[0m \u001b[0mdata_handler\u001b[0m\u001b[0;34m.\u001b[0m\u001b[0mshould_sync\u001b[0m\u001b[0;34m:\u001b[0m\u001b[0;34m\u001b[0m\u001b[0;34m\u001b[0m\u001b[0m\n\u001b[1;32m   1386\u001b[0m                 \u001b[0mcontext\u001b[0m\u001b[0;34m.\u001b[0m\u001b[0masync_wait\u001b[0m\u001b[0;34m(\u001b[0m\u001b[0;34m)\u001b[0m\u001b[0;34m\u001b[0m\u001b[0;34m\u001b[0m\u001b[0m\n",
            "\u001b[0;32m/usr/local/lib/python3.7/dist-packages/tensorflow/python/util/traceback_utils.py\u001b[0m in \u001b[0;36merror_handler\u001b[0;34m(*args, **kwargs)\u001b[0m\n\u001b[1;32m    148\u001b[0m     \u001b[0mfiltered_tb\u001b[0m \u001b[0;34m=\u001b[0m \u001b[0;32mNone\u001b[0m\u001b[0;34m\u001b[0m\u001b[0;34m\u001b[0m\u001b[0m\n\u001b[1;32m    149\u001b[0m     \u001b[0;32mtry\u001b[0m\u001b[0;34m:\u001b[0m\u001b[0;34m\u001b[0m\u001b[0;34m\u001b[0m\u001b[0m\n\u001b[0;32m--> 150\u001b[0;31m       \u001b[0;32mreturn\u001b[0m \u001b[0mfn\u001b[0m\u001b[0;34m(\u001b[0m\u001b[0;34m*\u001b[0m\u001b[0margs\u001b[0m\u001b[0;34m,\u001b[0m \u001b[0;34m**\u001b[0m\u001b[0mkwargs\u001b[0m\u001b[0;34m)\u001b[0m\u001b[0;34m\u001b[0m\u001b[0;34m\u001b[0m\u001b[0m\n\u001b[0m\u001b[1;32m    151\u001b[0m     \u001b[0;32mexcept\u001b[0m \u001b[0mException\u001b[0m \u001b[0;32mas\u001b[0m \u001b[0me\u001b[0m\u001b[0;34m:\u001b[0m\u001b[0;34m\u001b[0m\u001b[0;34m\u001b[0m\u001b[0m\n\u001b[1;32m    152\u001b[0m       \u001b[0mfiltered_tb\u001b[0m \u001b[0;34m=\u001b[0m \u001b[0m_process_traceback_frames\u001b[0m\u001b[0;34m(\u001b[0m\u001b[0me\u001b[0m\u001b[0;34m.\u001b[0m\u001b[0m__traceback__\u001b[0m\u001b[0;34m)\u001b[0m\u001b[0;34m\u001b[0m\u001b[0;34m\u001b[0m\u001b[0m\n",
            "\u001b[0;32m/usr/local/lib/python3.7/dist-packages/tensorflow/python/eager/def_function.py\u001b[0m in \u001b[0;36m__call__\u001b[0;34m(self, *args, **kwds)\u001b[0m\n\u001b[1;32m    913\u001b[0m \u001b[0;34m\u001b[0m\u001b[0m\n\u001b[1;32m    914\u001b[0m       \u001b[0;32mwith\u001b[0m \u001b[0mOptionalXlaContext\u001b[0m\u001b[0;34m(\u001b[0m\u001b[0mself\u001b[0m\u001b[0;34m.\u001b[0m\u001b[0m_jit_compile\u001b[0m\u001b[0;34m)\u001b[0m\u001b[0;34m:\u001b[0m\u001b[0;34m\u001b[0m\u001b[0;34m\u001b[0m\u001b[0m\n\u001b[0;32m--> 915\u001b[0;31m         \u001b[0mresult\u001b[0m \u001b[0;34m=\u001b[0m \u001b[0mself\u001b[0m\u001b[0;34m.\u001b[0m\u001b[0m_call\u001b[0m\u001b[0;34m(\u001b[0m\u001b[0;34m*\u001b[0m\u001b[0margs\u001b[0m\u001b[0;34m,\u001b[0m \u001b[0;34m**\u001b[0m\u001b[0mkwds\u001b[0m\u001b[0;34m)\u001b[0m\u001b[0;34m\u001b[0m\u001b[0;34m\u001b[0m\u001b[0m\n\u001b[0m\u001b[1;32m    916\u001b[0m \u001b[0;34m\u001b[0m\u001b[0m\n\u001b[1;32m    917\u001b[0m       \u001b[0mnew_tracing_count\u001b[0m \u001b[0;34m=\u001b[0m \u001b[0mself\u001b[0m\u001b[0;34m.\u001b[0m\u001b[0mexperimental_get_tracing_count\u001b[0m\u001b[0;34m(\u001b[0m\u001b[0;34m)\u001b[0m\u001b[0;34m\u001b[0m\u001b[0;34m\u001b[0m\u001b[0m\n",
            "\u001b[0;32m/usr/local/lib/python3.7/dist-packages/tensorflow/python/eager/def_function.py\u001b[0m in \u001b[0;36m_call\u001b[0;34m(self, *args, **kwds)\u001b[0m\n\u001b[1;32m    945\u001b[0m       \u001b[0;31m# In this case we have created variables on the first call, so we run the\u001b[0m\u001b[0;34m\u001b[0m\u001b[0;34m\u001b[0m\u001b[0;34m\u001b[0m\u001b[0m\n\u001b[1;32m    946\u001b[0m       \u001b[0;31m# defunned version which is guaranteed to never create variables.\u001b[0m\u001b[0;34m\u001b[0m\u001b[0;34m\u001b[0m\u001b[0;34m\u001b[0m\u001b[0m\n\u001b[0;32m--> 947\u001b[0;31m       \u001b[0;32mreturn\u001b[0m \u001b[0mself\u001b[0m\u001b[0;34m.\u001b[0m\u001b[0m_stateless_fn\u001b[0m\u001b[0;34m(\u001b[0m\u001b[0;34m*\u001b[0m\u001b[0margs\u001b[0m\u001b[0;34m,\u001b[0m \u001b[0;34m**\u001b[0m\u001b[0mkwds\u001b[0m\u001b[0;34m)\u001b[0m  \u001b[0;31m# pylint: disable=not-callable\u001b[0m\u001b[0;34m\u001b[0m\u001b[0;34m\u001b[0m\u001b[0m\n\u001b[0m\u001b[1;32m    948\u001b[0m     \u001b[0;32melif\u001b[0m \u001b[0mself\u001b[0m\u001b[0;34m.\u001b[0m\u001b[0m_stateful_fn\u001b[0m \u001b[0;32mis\u001b[0m \u001b[0;32mnot\u001b[0m \u001b[0;32mNone\u001b[0m\u001b[0;34m:\u001b[0m\u001b[0;34m\u001b[0m\u001b[0;34m\u001b[0m\u001b[0m\n\u001b[1;32m    949\u001b[0m       \u001b[0;31m# Release the lock early so that multiple threads can perform the call\u001b[0m\u001b[0;34m\u001b[0m\u001b[0;34m\u001b[0m\u001b[0;34m\u001b[0m\u001b[0m\n",
            "\u001b[0;32m/usr/local/lib/python3.7/dist-packages/tensorflow/python/eager/function.py\u001b[0m in \u001b[0;36m__call__\u001b[0;34m(self, *args, **kwargs)\u001b[0m\n\u001b[1;32m   2955\u001b[0m        filtered_flat_args) = self._maybe_define_function(args, kwargs)\n\u001b[1;32m   2956\u001b[0m     return graph_function._call_flat(\n\u001b[0;32m-> 2957\u001b[0;31m         filtered_flat_args, captured_inputs=graph_function.captured_inputs)  # pylint: disable=protected-access\n\u001b[0m\u001b[1;32m   2958\u001b[0m \u001b[0;34m\u001b[0m\u001b[0m\n\u001b[1;32m   2959\u001b[0m   \u001b[0;34m@\u001b[0m\u001b[0mproperty\u001b[0m\u001b[0;34m\u001b[0m\u001b[0;34m\u001b[0m\u001b[0m\n",
            "\u001b[0;32m/usr/local/lib/python3.7/dist-packages/tensorflow/python/eager/function.py\u001b[0m in \u001b[0;36m_call_flat\u001b[0;34m(self, args, captured_inputs, cancellation_manager)\u001b[0m\n\u001b[1;32m   1852\u001b[0m       \u001b[0;31m# No tape is watching; skip to running the function.\u001b[0m\u001b[0;34m\u001b[0m\u001b[0;34m\u001b[0m\u001b[0;34m\u001b[0m\u001b[0m\n\u001b[1;32m   1853\u001b[0m       return self._build_call_outputs(self._inference_function.call(\n\u001b[0;32m-> 1854\u001b[0;31m           ctx, args, cancellation_manager=cancellation_manager))\n\u001b[0m\u001b[1;32m   1855\u001b[0m     forward_backward = self._select_forward_and_backward_functions(\n\u001b[1;32m   1856\u001b[0m         \u001b[0margs\u001b[0m\u001b[0;34m,\u001b[0m\u001b[0;34m\u001b[0m\u001b[0;34m\u001b[0m\u001b[0m\n",
            "\u001b[0;32m/usr/local/lib/python3.7/dist-packages/tensorflow/python/eager/function.py\u001b[0m in \u001b[0;36mcall\u001b[0;34m(self, ctx, args, cancellation_manager)\u001b[0m\n\u001b[1;32m    502\u001b[0m               \u001b[0minputs\u001b[0m\u001b[0;34m=\u001b[0m\u001b[0margs\u001b[0m\u001b[0;34m,\u001b[0m\u001b[0;34m\u001b[0m\u001b[0;34m\u001b[0m\u001b[0m\n\u001b[1;32m    503\u001b[0m               \u001b[0mattrs\u001b[0m\u001b[0;34m=\u001b[0m\u001b[0mattrs\u001b[0m\u001b[0;34m,\u001b[0m\u001b[0;34m\u001b[0m\u001b[0;34m\u001b[0m\u001b[0m\n\u001b[0;32m--> 504\u001b[0;31m               ctx=ctx)\n\u001b[0m\u001b[1;32m    505\u001b[0m         \u001b[0;32melse\u001b[0m\u001b[0;34m:\u001b[0m\u001b[0;34m\u001b[0m\u001b[0;34m\u001b[0m\u001b[0m\n\u001b[1;32m    506\u001b[0m           outputs = execute.execute_with_cancellation(\n",
            "\u001b[0;32m/usr/local/lib/python3.7/dist-packages/tensorflow/python/eager/execute.py\u001b[0m in \u001b[0;36mquick_execute\u001b[0;34m(op_name, num_outputs, inputs, attrs, ctx, name)\u001b[0m\n\u001b[1;32m     53\u001b[0m     \u001b[0mctx\u001b[0m\u001b[0;34m.\u001b[0m\u001b[0mensure_initialized\u001b[0m\u001b[0;34m(\u001b[0m\u001b[0;34m)\u001b[0m\u001b[0;34m\u001b[0m\u001b[0;34m\u001b[0m\u001b[0m\n\u001b[1;32m     54\u001b[0m     tensors = pywrap_tfe.TFE_Py_Execute(ctx._handle, device_name, op_name,\n\u001b[0;32m---> 55\u001b[0;31m                                         inputs, attrs, num_outputs)\n\u001b[0m\u001b[1;32m     56\u001b[0m   \u001b[0;32mexcept\u001b[0m \u001b[0mcore\u001b[0m\u001b[0;34m.\u001b[0m\u001b[0m_NotOkStatusException\u001b[0m \u001b[0;32mas\u001b[0m \u001b[0me\u001b[0m\u001b[0;34m:\u001b[0m\u001b[0;34m\u001b[0m\u001b[0;34m\u001b[0m\u001b[0m\n\u001b[1;32m     57\u001b[0m     \u001b[0;32mif\u001b[0m \u001b[0mname\u001b[0m \u001b[0;32mis\u001b[0m \u001b[0;32mnot\u001b[0m \u001b[0;32mNone\u001b[0m\u001b[0;34m:\u001b[0m\u001b[0;34m\u001b[0m\u001b[0;34m\u001b[0m\u001b[0m\n",
            "\u001b[0;31mKeyboardInterrupt\u001b[0m: "
          ]
        }
      ]
    },
    {
      "cell_type": "code",
      "source": [
        "model_save_path = '/content/drive/MyDrive/Model'\n",
        "model.save(model_save_path+'Experiment3_2InputCT_PET_1MASK_3DImageSegmentation_3DUNET.h5')"
      ],
      "metadata": {
        "id": "tuybphwkGcYT"
      },
      "execution_count": null,
      "outputs": []
    },
    {
      "cell_type": "code",
      "source": [
        "dice_coef = history.history['dice_coef']\n",
        "val_coef = history.history['val_dice_coef']\n",
        "loss = history.history['loss']\n",
        "val_loss = history.history['val_loss']\n",
        "\n",
        "epochs = range(len(dice_coef))\n",
        "\n",
        "plt.plot(epochs, loss, 'r', label='Training Loss')\n",
        "plt.plot(epochs, val_loss, 'b', label='Validation Loss')\n",
        "plt.title('Loss')\n",
        "plt.legend()\n",
        "plt.figure()  \n",
        "\n",
        "plt.plot(epochs, dice_coef, 'r', label='Training dice_coef')\n",
        "plt.plot(epochs, val_coef, 'b', label='Validation dice_coef')\n",
        "plt.title('Dice Coefficient')\n",
        "plt.legend()\n",
        "\n",
        "plt.show()"
      ],
      "metadata": {
        "colab": {
          "base_uri": "https://localhost:8080/",
          "height": 235
        },
        "id": "-mD6huqo45vi",
        "outputId": "7239d02d-cf28-4f94-e5e1-ed3a52080d90"
      },
      "execution_count": null,
      "outputs": [
        {
          "output_type": "error",
          "ename": "NameError",
          "evalue": "ignored",
          "traceback": [
            "\u001b[0;31m---------------------------------------------------------------------------\u001b[0m",
            "\u001b[0;31mNameError\u001b[0m                                 Traceback (most recent call last)",
            "\u001b[0;32m<ipython-input-86-7082c781be7c>\u001b[0m in \u001b[0;36m<module>\u001b[0;34m\u001b[0m\n\u001b[0;32m----> 1\u001b[0;31m \u001b[0mdice_coef\u001b[0m \u001b[0;34m=\u001b[0m \u001b[0mhistory\u001b[0m\u001b[0;34m.\u001b[0m\u001b[0mhistory\u001b[0m\u001b[0;34m[\u001b[0m\u001b[0;34m'dice_coef'\u001b[0m\u001b[0;34m]\u001b[0m\u001b[0;34m\u001b[0m\u001b[0;34m\u001b[0m\u001b[0m\n\u001b[0m\u001b[1;32m      2\u001b[0m \u001b[0mval_coef\u001b[0m \u001b[0;34m=\u001b[0m \u001b[0mhistory\u001b[0m\u001b[0;34m.\u001b[0m\u001b[0mhistory\u001b[0m\u001b[0;34m[\u001b[0m\u001b[0;34m'val_dice_coef'\u001b[0m\u001b[0;34m]\u001b[0m\u001b[0;34m\u001b[0m\u001b[0;34m\u001b[0m\u001b[0m\n\u001b[1;32m      3\u001b[0m \u001b[0mloss\u001b[0m \u001b[0;34m=\u001b[0m \u001b[0mhistory\u001b[0m\u001b[0;34m.\u001b[0m\u001b[0mhistory\u001b[0m\u001b[0;34m[\u001b[0m\u001b[0;34m'loss'\u001b[0m\u001b[0;34m]\u001b[0m\u001b[0;34m\u001b[0m\u001b[0;34m\u001b[0m\u001b[0m\n\u001b[1;32m      4\u001b[0m \u001b[0mval_loss\u001b[0m \u001b[0;34m=\u001b[0m \u001b[0mhistory\u001b[0m\u001b[0;34m.\u001b[0m\u001b[0mhistory\u001b[0m\u001b[0;34m[\u001b[0m\u001b[0;34m'val_loss'\u001b[0m\u001b[0;34m]\u001b[0m\u001b[0;34m\u001b[0m\u001b[0;34m\u001b[0m\u001b[0m\n\u001b[1;32m      5\u001b[0m \u001b[0;34m\u001b[0m\u001b[0m\n",
            "\u001b[0;31mNameError\u001b[0m: name 'history' is not defined"
          ]
        }
      ]
    }
  ]
}